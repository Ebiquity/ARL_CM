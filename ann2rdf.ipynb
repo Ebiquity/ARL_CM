{
 "cells": [
  {
   "cell_type": "markdown",
   "metadata": {},
   "source": [
    "## Bridging combat messages spreadsheet to a knowledge graph "
   ]
  },
  {
   "cell_type": "code",
   "execution_count": 22,
   "metadata": {},
   "outputs": [],
   "source": [
    "from openpyxl.utils import get_column_letter\n",
    "from openpyxl import load_workbook\n",
    "from rdflib.namespace import XSD, RDF, OWL, RDFS\n",
    "from rdflib import Graph, URIRef, Namespace, BNode, Literal\n",
    "#import json\n",
    "import re\n",
    "import shortuuid \n",
    "from collections import defaultdict"
   ]
  },
  {
   "cell_type": "markdown",
   "metadata": {},
   "source": [
    "### Some global variables"
   ]
  },
  {
   "cell_type": "code",
   "execution_count": 23,
   "metadata": {},
   "outputs": [],
   "source": [
    "#in_file = 'Bridging_Combat_Messages_Breakdown_v2.xlsx'\n",
    "in_file = 'Bridging_v3.1.xlsx'\n",
    "out_file = 'sim_v3.nt'\n",
    "\n",
    "# keeps track of messages we don't understand\n",
    "unrecognized_alerts = defaultdict(int)\n",
    "\n",
    "# namespaces\n",
    "cm = \"http://purl.org/artiamas/cm/\"\n",
    "CM = Namespace(cm)\n",
    "\n",
    "# objects seen in Target field\n",
    "objname2IRI = {}\n",
    "\n",
    "def getObj(label):\n",
    "    \"\"\" returns IRI for task or object found in the Target field, creating it if neccessary \"\"\"\n",
    "    if label in objname2IRI:\n",
    "        return objname2IRI[label]\n",
    "    # not seen before, so create it\n",
    "    if \"Crossing Task\" in label:\n",
    "        obj = bnode('TASK')\n",
    "        g.add((obj, RDF.type, CM.CrossingTask))\n",
    "        g.add((simulation, CM.task, obj))\n",
    "    elif \"River Terrain\" in label:\n",
    "        obj = bnode('OBJ')\n",
    "        g.add((obj, RDF.type, CM.Obstacle))\n",
    "    else:\n",
    "        print('Unrecognized object:', label)\n",
    "        objname2IRI[label] = None\n",
    "        return None\n",
    "    g.add((obj, RDFS.label, Literal(label)))\n",
    "    objname2IRI[label] = obj\n",
    "    return obj\n",
    "   "
   ]
  },
  {
   "cell_type": "code",
   "execution_count": 24,
   "metadata": {},
   "outputs": [],
   "source": [
    "# custom BBode function adds a prefix to a short uuid sequence\n",
    "def bnode(prefix = ''):\n",
    "    if prefix:\n",
    "        return BNode(prefix + '_' + shortuuid.uuid()[:5])\n",
    "    else:\n",
    "        return BNode(shortuuid.uuid()[:5])"
   ]
  },
  {
   "cell_type": "markdown",
   "metadata": {},
   "source": [
    "### Create inital RDF graph "
   ]
  },
  {
   "cell_type": "code",
   "execution_count": 25,
   "metadata": {},
   "outputs": [],
   "source": [
    "# Create the inital RDF graph \n",
    "g = Graph()\n",
    "CM = Namespace('http://purl.org/artiamas/cm/')\n",
    "g.bind(\"cm\", CM, override=True)\n",
    "g.bind(\"owl\", OWL)\n",
    "g.bind(\"rdf\", RDF)\n",
    "g.bind('rdfs', RDFS)\n",
    "\n",
    "simulation = bnode('SIM')\n",
    "g.add((simulation, RDF.type, CM.Simulation))\n",
    "\n",
    "task = bnode('TASK')\n",
    "g.add((task, RDF.type, CM.CrossingTask))\n",
    "g.add((simulation, CM.task, task))\n",
    "\n",
    "instances = {'':CM.NONE} # dict of names to bnodes"
   ]
  },
  {
   "cell_type": "code",
   "execution_count": 26,
   "metadata": {},
   "outputs": [],
   "source": [
    "file = load_workbook(filename = in_file)\n",
    "sheet = file.active"
   ]
  },
  {
   "cell_type": "code",
   "execution_count": 27,
   "metadata": {},
   "outputs": [
    {
     "name": "stdout",
     "output_type": "stream",
     "text": [
      "sheet has 8 columns and 127 rows\n"
     ]
    }
   ],
   "source": [
    "# read the spreadsheet data into a JSON-like python structure\n",
    "all_data = []\n",
    "\n",
    "last_column = len(list(sheet.columns))\n",
    "last_row = len(list(sheet.rows))\n",
    "\n",
    "print(f\"sheet has {len(list(sheet.columns))} columns and {len(list(sheet.rows))} rows\")\n",
    "\n",
    "for row in range(2, last_row + 1):\n",
    "    data = {}\n",
    "    data['sequence'] = row-1\n",
    "    for column in range(1, last_column + 1):\n",
    "        col = get_column_letter(column)\n",
    "        property = sheet[col + str(1)].value\n",
    "        value = sheet[col + str(row)].value\n",
    "        if row > 1:\n",
    "            data[property] = value\n",
    "    all_data.append(data)"
   ]
  },
  {
   "cell_type": "code",
   "execution_count": 28,
   "metadata": {},
   "outputs": [],
   "source": [
    "# dictionary mapping a spreadsheet column name to a RDF property URI\n",
    "str2property = {'Time':CM.time, 'Agent':CM.agent, 'sequence':CM.sequence, \n",
    "                'Type':CM.messageType, 'Level':CM.level, 'Grid':CM.grid,\n",
    "                'Agent':CM.agent, 'Target':CM.target, 'Alert Messages':CM.alertMessage,\n",
    "                'Force':CM.force, 'id':CM.id}"
   ]
  },
  {
   "cell_type": "code",
   "execution_count": 29,
   "metadata": {},
   "outputs": [],
   "source": [
    "# function mapping a message's prop value to a RDF property URI\n",
    "def str2object(msg, prop, value):\n",
    "    \"\"\" convert a string into a object or literal \"\"\"\n",
    "    if prop == 'Force':\n",
    "        if value in [\"B\", \"BLUFOR\"]:\n",
    "            return CM.BLUE\n",
    "        elif value in [\"R\", \"REDFOR\"]:\n",
    "            return CM.RED\n",
    "        else:\n",
    "            print('Unrecognized force value:', value)\n",
    "            return CM.NONE\n",
    "    elif type(value) in [int, float]:\n",
    "        return Literal(value)\n",
    "    elif prop == 'Agent':\n",
    "        #print('msg:', msg)\n",
    "        return parse_agent(value, msg=msg)\n",
    "    elif prop == 'Target':\n",
    "        if value and \"[1]\" in value:\n",
    "            # sometimes the Target field has an object reference (e.g., task or obstacle)\n",
    "            return getObj(value)\n",
    "        elif not msg['Agent']:\n",
    "            return parse_agent(value, msg=msg)\n",
    "        else:\n",
    "            return parse_target(value, msg=msg)\n",
    "    else:\n",
    "        return Literal(value)\n",
    "    \n",
    "def forceIRI(value):\n",
    "    # \n",
    "    if value in [\"B\", \"BLUFOR\"]:\n",
    "        return CM.BLUE\n",
    "    elif value in [\"R\", \"REDFOR\"]:\n",
    "        return CM.RED\n",
    "    else:\n",
    "        print('Unrecognized force value:', value)\n",
    "        return CM.NONE"
   ]
  },
  {
   "cell_type": "markdown",
   "metadata": {},
   "source": [
    "### Given a string (e.g., \"B CO / 1 - 22\") representing a military unit we've not seen before, we parse the string to infer the unit's type (e.g., CM.Company) and its superior units (e.g., Battalion 1; Regiment 22) nd their types, adding information to the RDF graph. The function returns the sgent's URI"
   ]
  },
  {
   "cell_type": "code",
   "execution_count": 30,
   "metadata": {},
   "outputs": [],
   "source": [
    "def normalize_unit_name(text):\n",
    "    \"\"\" returns a name with a slash between components,\n",
    "     e.g., SCT_PLT/1/22_IN \"\"\"\n",
    "    if not text:\n",
    "        return ''\n",
    "    name = text.strip()\n",
    "    if not name:\n",
    "        return ''\n",
    "    if '/' not in name:\n",
    "        # sometimes there's just the local name\n",
    "        name = name + ' / 1 / 22 IN'\n",
    "    name = name.replace('-','/')\n",
    "    name = name.replace(' ','_')\n",
    "    if re.search('^\\d_\\d_CO', name):\n",
    "        name = name[0] + '/' + name[1:]\n",
    "    unit = [x.strip('_') for x in name.split('/')]\n",
    "    name = '/'.join(unit)\n",
    "    return name\n",
    "\n",
    "def infer_unit_type_and_parent(name):\n",
    "    \"\"\" returns unit type based on its name, e.g.; SCT_PLT/1/22_IN  => CM.ScoutPlatoon \n",
    "    standard hierarchy: squad<platoon<company<battalion<brigade|regiment<division<corps\n",
    "    \"\"\"\n",
    "    units = name.split('/')\n",
    "    unit0 = units[0]\n",
    "    parent = '/'.join(units[1:])\n",
    "    if 'ENG_CO' in unit0:\n",
    "        unit_type = CM.EngineeringCompany\n",
    "    elif 'SCT_PLT' in unit0:\n",
    "        unit_type = CM.ScoutPlatoon\n",
    "    elif 'MORTAR_PLT' in unit0:\n",
    "        unit_type = CM.MortarPlatoon\n",
    "    elif 'CO' in unit0:\n",
    "        unit_type = CM.Company\n",
    "    elif len(units) > 1 and 'CO' in units[1]:\n",
    "        unit_type = CM.Platoon\n",
    "    else:\n",
    "        print('Unrecognized unit type:', name)\n",
    "        unit_type = CM.MilitaryUnit\n",
    "    return (unit_type, parent)\n",
    "\n",
    "def parse_target(text, field='target', infer_units=True, msg=None):\n",
    "    return parse_agent(text, field='target', infer_units=infer_units, msg=msg)\n",
    "\n",
    "def parse_agent(text, field='agent', infer_units=True, msg=None):\n",
    "    \"\"\"returns entity iri id \"\"\"\n",
    "    global instances\n",
    "\n",
    "    name = normalize_unit_name(text)\n",
    "    if name in instances:\n",
    "        # We've seen this before, so just return the instance\n",
    "        return instances[name]\n",
    "    \n",
    "    unit_type, parent = infer_unit_type_and_parent(name)\n",
    "      \n",
    "    id = URIRef(cm + 'UNIT_'+ name)\n",
    "    instances[name] = id\n",
    "    if field == 'agent':\n",
    "        # agent's force is same as msg force\n",
    "        if msg['Force'] in ['B', 'BLUFOR']:\n",
    "            force = CM.BLUE\n",
    "        elif msg['Force'] in ['R', 'REDFOR']:\n",
    "            force = CM.RED\n",
    "        g.add((id, CM.force, force))\n",
    "    elif field == 'target' and msg and msg['Agent']:\n",
    "        # target's force (if there is an agent) opposite of msg force\n",
    "        if msg['Force'] in ['B', 'BLUFOR']:\n",
    "            force = CM.RED\n",
    "        elif msg['Force'] in ['R', 'REDFOR']:\n",
    "            force = CM.BLUE\n",
    "        g.add((id, CM.force, force))\n",
    "    g.add((id, CM.isa, unit_type))\n",
    "    g.add((id, RDFS.label, Literal(name)))\n",
    "    \n",
    "    if infer_units:\n",
    "        infer_superunits(id, unit_type, force, parent)\n",
    "    return id\n",
    "  \n",
    "def get_unit_type(t):\n",
    "    if 'Platoon' in t:\n",
    "        return 'platoon'\n",
    "    elif 'Company' in t:\n",
    "        return 'company'\n",
    "    elif 'Brigade' in t:\n",
    "        return 'brigade'\n",
    "    elif 'Battalion' in t:\n",
    "        return 'battalion'\n",
    "    elif 'Regiment' in t:\n",
    "        return 'regiment'\n",
    "    else:\n",
    "        print('Unrecognized unit type:', t)\n",
    "        return None\n",
    "\n",
    "def infer_superunits(subid, subunit_type, force, name):\n",
    "    #print(f\"calling infer_superunits({subid}, {subunit_type}, {force}, {name})\")\n",
    "    if not name:\n",
    "        return None\n",
    "    id = URIRef(cm + 'UNIT_'+ name)\n",
    "    instances[name] = id\n",
    "    g.add((id, CM.force, force))\n",
    "    g.add((id, RDFS.label, Literal(name)))\n",
    "    g.add((subid, CM.partOf, id))\n",
    "    \n",
    "    units = name.split('/')\n",
    "    unit0 = units[0]\n",
    "    parent = '/'.join(units[1:])\n",
    "    \n",
    "    subtype = get_unit_type(subunit_type)\n",
    "    \n",
    "    if subtype == \"platoon\":\n",
    "        # platoon can be part of a company or battalion\n",
    "        if 'CO' in unit0:\n",
    "            unit_type = CM.Company\n",
    "        else:\n",
    "            unit_type = CM.Battalion\n",
    "        g.add((id, CM.isa, unit_type))\n",
    "    elif subtype == \"company\":\n",
    "        # company always part of a battalion\n",
    "        unit_type = CM.Battalion\n",
    "        g.add((id, CM.isa, unit_type))\n",
    "    elif subtype == \"battalion\":\n",
    "        # battalion can be part of a brigade or regiment\n",
    "        if \"INF BDE\" in unit0:\n",
    "            unit_type = CM.InfantryBrigade\n",
    "        elif \"BDE\" in unit0:\n",
    "            unit_type = CM.Brigade\n",
    "        elif \"IN\" in unit0:\n",
    "            unit_type = CM.InfantryRegiment\n",
    "        else:\n",
    "            unit_type = CM.Regiment\n",
    "        g.add((id, CM.isa, unit_type))\n",
    "    else:\n",
    "        print(f\"Unrecognized subunit type {unit0} for ({subunit_type}, {force}, {name}\")\n",
    "        return None\n",
    "    \n",
    "    if parent:\n",
    "        infer_superunits(id, unit_type, force, parent)\n",
    "\n",
    "def duration(time1, time2):\n",
    "    # won't work if we cross a day boundry :-( \n",
    "    # H+08:12 \n",
    "    h1,m1  = time1.split('+')[1].split(':')\n",
    "    h2,m2  = time2.split('+')[1].split(':')\n",
    "    return str(h2-h1) + ':' + str(m2-m1)\n",
    "    \n",
    "def time_to_minutes(time):\n",
    "    h, m  = [int(x) for x in time.split('+')[1].split(':')]\n",
    "    return 60*h + m\n",
    "        "
   ]
  },
  {
   "cell_type": "code",
   "execution_count": 31,
   "metadata": {},
   "outputs": [],
   "source": [
    "def add_action(msg, msg_id):\n",
    "    \"\"\" add an action to the message\"\"\"\n",
    "    act = bnode('ACT')\n",
    "    alert = msg[\"Alert Messages\"].lower()\n",
    "    agent = list(g.objects(msg_id, CM.agent))[0]\n",
    "    target = list(g.objects(msg_id, CM.target))[0]\n",
    "    time = list(g.objects(msg_id, CM.time))[0]\n",
    "\n",
    "    g.add((act, CM.message, msg_id))\n",
    "    g.add((act, CM.time, list(g.objects(msg_id, CM.time))[0] ))\n",
    "    g.add((act, CM.minutes, list(g.objects(msg_id, CM.minutes))[0] ))\n",
    "    g.add((act, CM.sequence, list(g.objects(msg_id, CM.sequence))[0] ))\n",
    "    g.add((act, CM.alertMessage, Literal(alert)))\n",
    "    \n",
    "    \n",
    "    if 'resupply' in alert:\n",
    "        g.add((act, CM.isa, CM.Resupply))\n",
    "        g.add((act, CM.recipient, target))\n",
    "        if \"(ammo)\" in alert:\n",
    "            g.add((act, CM.object, CM.AMMO))\n",
    "        elif \"(fuel)\" in alert:\n",
    "            g.add((act, CM.object, CM.FUEL))\n",
    "    elif ' sa ' in alert:\n",
    "        actType = CM.EarnedSA if 'earned' in alert else CM.LostSA\n",
    "        g.add((act, CM.isa, act))\n",
    "        g.add((act, CM.subject, agent))\n",
    "        g.add((act, CM.object, target))\n",
    "    elif 'moving into range' in alert:\n",
    "        reason = Literal(alert[15:].strip(', '))\n",
    "        g.add((act, CM.isa, CM.Move))\n",
    "        g.add((act, CM.subject, agent))\n",
    "        g.add((act, CM.object, target))\n",
    "        g.add((act, CM.reason, reason))\n",
    "    elif 'in df range' in alert:\n",
    "        actType = CM.Attack if '(attacking)' in alert else CM.Engage\n",
    "        g.add((act, CM.isa, actType))\n",
    "        g.add((act, CM.subject, agent))\n",
    "        g.add((act, CM.object, target))\n",
    "    elif 'moving to fight' in alert or \\\n",
    "         'adjust route to fight' in alert:\n",
    "        g.add((act, CM.isa, CM.MoveToward))\n",
    "        g.add((act, CM.subject, agent))\n",
    "        g.add((act, CM.object, target))\n",
    "        g.add((act, CM.reason, Literal(\"attack\")))\n",
    "    elif 'firing' in alert:\n",
    "        actType = CM.FiringOn if ' on' in alert else CM.FiringEnded\n",
    "        g.add((act, CM.isa, act))\n",
    "        g.add((act, CM.subject, agent))\n",
    "        g.add((act, CM.object, target))\n",
    "    elif re.match('attacking.*against', alert):\n",
    "        g.add((act, CM.isa, CM.Attack))\n",
    "        g.add((act, CM.subject, agent))\n",
    "        g.add((act, CM.object, target))\n",
    "    elif 'fighting' in alert:\n",
    "        g.add((act, CM.isa, CM.StartFight))\n",
    "        g.add((act, CM.subject, agent))\n",
    "        g.add((act, CM.toward, target))\n",
    "    elif re.match('attacking.*ended', alert):\n",
    "        g.add((act, CM.isa, CM.EndFight))\n",
    "        g.add((act, CM.subject, agent))\n",
    "        g.add((act, CM.toward, target))\n",
    "    elif re.match('receiving.*fire$', alert):\n",
    "        g.add((act, CM.isa, CM.Attack))\n",
    "        g.add((act, CM.object, agent))\n",
    "    elif re.match('receiving.*fire ended', alert):\n",
    "        g.add((act, CM.isa, CM.EndAttack))\n",
    "        g.add((act, CM.object, agent))\n",
    "    elif \"not going after opfor\" in alert:\n",
    "        g.add((act, CM.isa, CM.Report))\n",
    "        g.add((act, CM.subject, agent))\n",
    "        g.add((act, CM.status, Literal(\"unable\")))\n",
    "        g.add((act, CM.reason, Literal(alert)))\n",
    "        act1 = bnode('ACT')\n",
    "        g.add((act, CM.action, act1 ))\n",
    "        g.add((act1, CM.isa, CM.Engage))\n",
    "        g.add((act1, CM.subject, agent))\n",
    "        g.add((act1, CM.object, target))\n",
    "    elif \"can't create directfires\" in alert:\n",
    "        g.add((act, CM.isa, CM.Report))\n",
    "        g.add((act, CM.subject, agent))\n",
    "        g.add((act, CM.status, Literal(alert)))\n",
    "    elif \"paused at crossing control point\" in alert:\n",
    "        g.add((act, CM.isa, CM.Report))\n",
    "        g.add((act, CM.status, Literal(\"pause\" )))\n",
    "        if \"crossing is not traversable\" in alert:\n",
    "            g.add((act, CM.reason, Literal(\"crossing not traversable\")))\n",
    "        act1 = bnode('ACT')\n",
    "        g.add((act, CM.action, act1 ))\n",
    "        g.add((act1, CM.isa, CM.MOVE))\n",
    "        g.add((act1, CM.subject, agent))\n",
    "        g.add((act1, CM.object, target))\n",
    "    elif 'crossing begin' in alert:\n",
    "        act = bnode('ACT')\n",
    "        g.add((act, CM.isa, CM.Crossing))\n",
    "        g.add((act, CM.subj, agent))\n",
    "        g.add((act, CM.object, target))\n",
    "        g.add((act, CM.startTime, time))\n",
    "    elif 'crossing completed' in alert:\n",
    "        # find corresponding act?\n",
    "        act = bnode('ACT')\n",
    "        g.add((act, CM.isa, CM.Crossing))\n",
    "        g.add((act, CM.subj, agent))\n",
    "        g.add((act, CM.object, target))\n",
    "        g.add((act, CM.endTime, time))\n",
    "    elif 'task' in alert or 'crossing' in alert:\n",
    "        g.add((act, CM.isa, CM.TaskReport))\n",
    "        g.add((act, CM.subject, agent))\n",
    "        g.add((act, CM.object, task))\n",
    "        if 'start' in alert or 'begin' in alert:\n",
    "            g.add((act, CM.status, Literal(\"started\")))\n",
    "            g.add((task, CM.startTime, time))\n",
    "        elif 'complete' in alert:\n",
    "            g.add((act, CM.status, Literal(\"completed\")))\n",
    "            g.add((act, CM.status, Literal(\"ended\")))\n",
    "            g.add((task, CM.status, Literal(\"completed\")))\n",
    "            g.add((task, CM.endTime, time))\n",
    "    elif 'pause' in alert and 'obstacle' in alert:\n",
    "        g.add((act, CM.isa, CM.Report))\n",
    "        g.add((act, CM.status, Literal(\"pause\")))\n",
    "        g.add((act, CM.reason, target))\n",
    "        act1 = bnode('ACT')\n",
    "        g.add((act, CM.action, act1 ))\n",
    "        g.add((act1, CM.isa, CM.MOVE))\n",
    "        g.add((act1, CM.subject, agent))\n",
    "    elif 'waiting' in alert:\n",
    "        g.add((act, CM.isa, CM.Report))\n",
    "        g.add((act, CM.subject, agent))\n",
    "        g.add((act, CM.status, Literal(\"wait\" )))\n",
    "        if \"can't attack without reinforcements\" in alert:\n",
    "            g.add((act, CM.reason, Literal(\"need reinforcements\")))\n",
    "        act1 = bnode('ACT')\n",
    "        g.add((act, CM.action, act1 ))\n",
    "        g.add((act1, CM.isa, CM.Attack))\n",
    "        g.add((act1, CM.subject, agent))\n",
    "        g.add((act1, CM.object, target))\n",
    "    elif 'resume' in alert:\n",
    "        g.add((act, CM.isa, CM.Report))\n",
    "        g.add((act, CM.subject, agent))\n",
    "        g.add((act, CM.status, Literal(\"resume\")))\n",
    "        act1 = bnode('ACT')\n",
    "        g.add((act, CM.action, act1 ))\n",
    "        g.add((act1, CM.isa, CM.Move))\n",
    "        g.add((act1, CM.subject, agent))\n",
    "        g.add((act1, CM.object, target))\n",
    "    elif 'planned battle removed' in alert:\n",
    "        g.add((act, CM.isa, CM.Report))\n",
    "        g.add((act, CM.subject, agent))\n",
    "        g.add((act, CM.status, Literal(\"end\")))\n",
    "        if 'no real targets' in alert:\n",
    "            g.add((act, CM.reason, Literal(\"no targets\")))\n",
    "        act1 = bnode('ACT')\n",
    "        g.add((act, CM.action, act1 ))\n",
    "        g.add((act1, CM.isa, CM.Attack))\n",
    "        g.add((act1, CM.subject, agent))\n",
    "        g.add((act1, CM.object, target))\n",
    "    elif 'firing has stopped'in alert:\n",
    "        g.add((act, CM.isa, CM.Report))\n",
    "        g.add((act, CM.subject, agent))\n",
    "        g.add((act, CM.Status, CM.END ))\n",
    "        act1 = bnode('ACT')\n",
    "        g.add((act, CM.action, act1 ))\n",
    "        g.add((act1, CM.isa, CM.Attack))\n",
    "        g.add((act1, CM.object, agent))\n",
    "    elif 'cbe' in alert and 'terminated' in alert:\n",
    "        g.add((act, CM.isa, CM.Report))\n",
    "        g.add((act, CM.subject, agent))\n",
    "        g.add((act, CM.subject, target))\n",
    "        g.add((act, CM.reason, Literal(alert)))\n",
    "    elif 'detect' in alert:\n",
    "        g.add((act, CM.isa, CM.Detect))\n",
    "        g.add((act, CM.subject, agent))\n",
    "        g.add((act, CM.subject, target))\n",
    "        g.add((act, CM.reason, Literal(alert)))\n",
    "    else:\n",
    "        print(\"Unrecognized alert:\", alert)\n",
    "        unrecognized_alerts[alert] += 1\n",
    "        return CM.Action\n",
    "    return act"
   ]
  },
  {
   "cell_type": "markdown",
   "metadata": {},
   "source": [
    "### Add message objects to the graph"
   ]
  },
  {
   "cell_type": "code",
   "execution_count": 32,
   "metadata": {},
   "outputs": [
    {
     "name": "stdout",
     "output_type": "stream",
     "text": [
      "Read to process 126 messages\n",
      "Added 126 messages and 126 actions\n"
     ]
    }
   ],
   "source": [
    "messages = []\n",
    "actions = []\n",
    "print(f\"Read to process {len(all_data)} messages\")\n",
    "for msg in all_data:\n",
    "    subj = bnode('MSG')\n",
    "    messages.append(subj)\n",
    "    g.add((subj, RDF.type, CM.CombatMessage))\n",
    "    #g.add((subj, CM.task, task))\n",
    "    for prop, obj in msg.items():\n",
    "        #print('prop, obj:', prop, obj)\n",
    "        if prop not in str2property:\n",
    "            print(f\"Unrecognized property {prop}\")\n",
    "            continue\n",
    "        obj = str2object(msg, prop, obj)\n",
    "        prop = str2property[prop]\n",
    "        #print('prop, obj:', prop, obj)\n",
    "        g.add((subj, prop, obj))\n",
    "    # new properties\n",
    "    g.add((subj, CM.minutes, Literal(time_to_minutes(msg['Time'])) ))\n",
    "    act = add_action(msg, subj)\n",
    "    actions.append(act)\n",
    "g.add((simulation, CM.firstMessage, messages[0]))\n",
    "g.add((simulation, CM.lastMessage, messages[-1]))\n",
    "g.add((simulation, CM.firstAction, actions[0]))\n",
    "g.add((simulation, CM.lastAction, actions[-1]))\n",
    "for i in range(len(messages)-1):\n",
    "     g.add((messages[i], CM.nextMessage, messages[i+1]))\n",
    "     g.add((actions[i], CM.nextAction, actions[i+1]))\n",
    "print(f\"Added {len(messages)} messages and {len(actions)} actions\")\n"
   ]
  },
  {
   "cell_type": "code",
   "execution_count": 33,
   "metadata": {},
   "outputs": [
    {
     "data": {
      "text/plain": [
       "<Graph identifier=Nf1abb41726d045c89003e2756c785133 (<class 'rdflib.graph.Graph'>)>"
      ]
     },
     "execution_count": 33,
     "metadata": {},
     "output_type": "execute_result"
    }
   ],
   "source": [
    "# read cm ontology into another graph\n",
    "gcm = Graph()\n",
    "gcm.parse(\"http://purl.org/artiamas/cm\", format='ttl')"
   ]
  },
  {
   "cell_type": "code",
   "execution_count": 34,
   "metadata": {},
   "outputs": [],
   "source": [
    "# import owlrl\n",
    "# g2 = g + gcm\n",
    "# rdfs = owlrl.RDFSClosure.RDFS_Semantics(g2, True, True, True)\n",
    "# rdfs.closure()\n",
    "# rdfs.flush_stored_triples()"
   ]
  },
  {
   "cell_type": "code",
   "execution_count": 35,
   "metadata": {},
   "outputs": [],
   "source": [
    "# we use CM.isa for immediate types. add rdf:type assersions\n",
    "for row in g.query(\"select ?X ?T {?X cm:isa ?T}\"):\n",
    "    g.add((row.X, RDF.type, row.T))\n",
    "g2 = g + gcm\n",
    "# Add inferred types\n",
    "for row in g2.query(\"select ?X ?ST {?X rdf:type/rdfs:subClassOf* ?ST}\"):\n",
    "    g.add((row.X, RDF.type, row.ST))"
   ]
  },
  {
   "cell_type": "code",
   "execution_count": 36,
   "metadata": {},
   "outputs": [
    {
     "name": "stderr",
     "output_type": "stream",
     "text": [
      "/Users/finin/miniforge3/envs/m1/lib/python3.9/site-packages/rdflib/plugins/serializers/nt.py:36: UserWarning: NTSerializer always uses UTF-8 encoding. Given encoding was: None\n",
      "  warnings.warn(\n"
     ]
    },
    {
     "data": {
      "text/plain": [
       "<Graph identifier=Nd6a4dbbbeef44c229ba15fa85855e4b3 (<class 'rdflib.graph.Graph'>)>"
      ]
     },
     "execution_count": 36,
     "metadata": {},
     "output_type": "execute_result"
    }
   ],
   "source": [
    "g.serialize(format='ntriples', destination=out_file)"
   ]
  },
  {
   "cell_type": "code",
   "execution_count": 37,
   "metadata": {},
   "outputs": [],
   "source": [
    "#print(g.serialize(format='ntriples'))"
   ]
  },
  {
   "cell_type": "markdown",
   "metadata": {},
   "source": [
    "## fin"
   ]
  },
  {
   "cell_type": "code",
   "execution_count": 38,
   "metadata": {},
   "outputs": [
    {
     "name": "stdout",
     "output_type": "stream",
     "text": [
      "\n",
      "2/1_CO_(TRK)/1_BN/241_INF_BDE_(TM)\n",
      "1_CO_(TRK)/1_BN/241_INF_BDE_(TM)\n",
      "1_BN/241_INF_BDE_(TM)\n",
      "241_INF_BDE_(TM)\n",
      "B_CO/1/22_IN\n",
      "1/22_IN\n",
      "22_IN\n",
      "SCT_PLT/1/22_IN\n",
      "1/1_CO_(TRK)/1_BN/241_INF_BDE_(TM)\n",
      "3/1_CO_(TRK)/1_BN/241_INF_BDE_(TM)\n",
      "C_CO/1/22_IN\n",
      "50_ENG_CO_(MRBC)/1/22_IN\n",
      "A_CO/1/22_IN\n",
      "D_CO/1/22_IN\n",
      "MORTAR_PLT/1/22_IN\n"
     ]
    }
   ],
   "source": [
    "for name in instances.keys():\n",
    "    print(name)"
   ]
  },
  {
   "cell_type": "code",
   "execution_count": 39,
   "metadata": {},
   "outputs": [],
   "source": [
    "for key, value in unrecognized_alerts.items(): print(value, ':', key)"
   ]
  },
  {
   "cell_type": "code",
   "execution_count": 40,
   "metadata": {},
   "outputs": [
    {
     "name": "stdout",
     "output_type": "stream",
     "text": [
      "TASK_iYwgR : Crossing Task [1]\n",
      "OBJ_BDFvs : River Terrain [1]\n"
     ]
    }
   ],
   "source": [
    "for key, value in objname2IRI.items(): print(value, ':', key)"
   ]
  },
  {
   "cell_type": "code",
   "execution_count": 41,
   "metadata": {},
   "outputs": [],
   "source": [
    "q = \"\"\"select ?A ?S where {?A CM.isa CM.Crossing; CM.subj ?S}\"\"\""
   ]
  },
  {
   "cell_type": "code",
   "execution_count": 42,
   "metadata": {},
   "outputs": [
    {
     "data": {
      "text/plain": [
       "'select ?A ?S where {?A CM.isa CM.Crossing; CM.subj ?S}'"
      ]
     },
     "execution_count": 42,
     "metadata": {},
     "output_type": "execute_result"
    }
   ],
   "source": [
    "q"
   ]
  },
  {
   "cell_type": "code",
   "execution_count": null,
   "metadata": {},
   "outputs": [],
   "source": [
    "for row in g.query(q):\n",
    "    print(row.A, row.S)"
   ]
  },
  {
   "cell_type": "code",
   "execution_count": null,
   "metadata": {},
   "outputs": [],
   "source": [
    "g.query(q)"
   ]
  },
  {
   "cell_type": "code",
   "execution_count": null,
   "metadata": {},
   "outputs": [],
   "source": []
  }
 ],
 "metadata": {
  "kernelspec": {
   "display_name": "Python 3 (ipykernel)",
   "language": "python",
   "name": "python3"
  },
  "language_info": {
   "codemirror_mode": {
    "name": "ipython",
    "version": 3
   },
   "file_extension": ".py",
   "mimetype": "text/x-python",
   "name": "python",
   "nbconvert_exporter": "python",
   "pygments_lexer": "ipython3",
   "version": "3.9.7"
  }
 },
 "nbformat": 4,
 "nbformat_minor": 2
}
